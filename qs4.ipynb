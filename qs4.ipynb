{
 "cells": [
  {
   "cell_type": "code",
   "execution_count": 1,
   "id": "b194d22c-ae84-4d47-83d2-1958f346ad9e",
   "metadata": {},
   "outputs": [
    {
     "name": "stdout",
     "output_type": "stream",
     "text": [
      "[1, 2, 3, 4]\n",
      "[5, 6, 7, 8]\n"
     ]
    }
   ],
   "source": [
    "\n",
    "\n",
    "def merging(arr1, arr2):\n",
    "  a = len(arr1)\n",
    "  b = len(arr2)\n",
    "\n",
    "  i = a - 1\n",
    "  j = b - 1\n",
    "  k = a + b - 1\n",
    "\n",
    "  arr1.extend([0] * b)\n",
    "\n",
    "  while i >= 0 and j >= 0:\n",
    "    if arr1[i] > arr2[j]:\n",
    "      arr1[k] = arr1[i]\n",
    "      i = i - 1\n",
    "    else:\n",
    "      arr1[k] = arr2[j]\n",
    "      j = j - 1\n",
    "    k = k - 1\n",
    "\n",
    "  while j >= 0:\n",
    "    arr1[k] = arr2[j]\n",
    "    j = j - 1\n",
    "    k = k - 1\n",
    "\n",
    "  arr2[:] = arr1[a:]\n",
    "  arr1[:] = arr1[:a]\n",
    "\n",
    "arr1 = [1,3,5,7]\n",
    "arr2 = [2,4,6,8]\n",
    "merging(arr1, arr2)\n",
    "print(arr1)\n",
    "print(arr2)\n",
    "     \n"
   ]
  },
  {
   "cell_type": "code",
   "execution_count": null,
   "id": "47acae3e-804a-49e8-b46f-efdf1e55fc1b",
   "metadata": {},
   "outputs": [],
   "source": []
  }
 ],
 "metadata": {
  "kernelspec": {
   "display_name": "Python 3 (ipykernel)",
   "language": "python",
   "name": "python3"
  },
  "language_info": {
   "codemirror_mode": {
    "name": "ipython",
    "version": 3
   },
   "file_extension": ".py",
   "mimetype": "text/x-python",
   "name": "python",
   "nbconvert_exporter": "python",
   "pygments_lexer": "ipython3",
   "version": "3.12.5"
  }
 },
 "nbformat": 4,
 "nbformat_minor": 5
}
